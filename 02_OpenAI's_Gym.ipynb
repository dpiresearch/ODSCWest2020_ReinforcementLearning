{
  "nbformat": 4,
  "nbformat_minor": 0,
  "metadata": {
    "colab": {
      "name": "02 OpenAI's Gym.ipynb",
      "provenance": [],
      "include_colab_link": true
    },
    "kernelspec": {
      "name": "python3",
      "display_name": "Python 3"
    }
  },
  "cells": [
    {
      "cell_type": "markdown",
      "metadata": {
        "id": "view-in-github",
        "colab_type": "text"
      },
      "source": [
        "<a href=\"https://colab.research.google.com/github/dpiresearch/ODSCWest2020_ReinforcementLearning/blob/main/02_OpenAI's_Gym.ipynb\" target=\"_parent\"><img src=\"https://colab.research.google.com/assets/colab-badge.svg\" alt=\"Open In Colab\"/></a>"
      ]
    },
    {
      "cell_type": "markdown",
      "metadata": {
        "id": "N_4FRJeiS9Fc"
      },
      "source": [
        "## Familiarize with OpenAI's Gym\n",
        "\n",
        "The Gym library provides a set of environment where it's possible to test and train different Reinforcement Learning algorithms.\n",
        "\n",
        ".Now let's see some commands to interact with it:"
      ]
    },
    {
      "cell_type": "code",
      "metadata": {
        "id": "HPJbvP_6Szq3"
      },
      "source": [
        "%matplotlib inline\n",
        "\n",
        "import gym\n",
        "import matplotlib.pyplot as plt\n",
        "import numpy as np\n",
        " "
      ],
      "execution_count": null,
      "outputs": []
    },
    {
      "cell_type": "markdown",
      "metadata": {
        "id": "f4BWFQpuT50r"
      },
      "source": [
        "I'll specify tow enviroments from OpenAi's gym, Frozen Lake and Cart Pole. They are basically two simple games that our agent will play.\n",
        "\n",
        "It's possible to find more information about the environments here: https://gym.openai.com/\n",
        "\n",
        "\n"
      ]
    },
    {
      "cell_type": "code",
      "metadata": {
        "id": "uC3KQNoaTn0o"
      },
      "source": [
        "# Choose environment\n",
        "env_names = ['FrozenLake-v0', 'CartPole-v0']\n",
        "\n",
        "env_name = env_names[0]\n",
        "# Create Environment\n",
        "env = gym.make(env_name)\n",
        "\n",
        "# This function can be use to visualize the enviroment directly in the notebook\n",
        "# if it involves graphics, so it's not necessary for the FrozenLake enviroment.\n",
        "\n",
        "render_in_jp = lambda : plt.imshow(env.render(mode='rgb_array'))\n"
      ],
      "execution_count": null,
      "outputs": []
    },
    {
      "cell_type": "markdown",
      "metadata": {
        "id": "LrUwX25hbKcB"
      },
      "source": [
        "To start the enviroment it's necessary reset it first.\n",
        "\n",
        "Then it's posible to visualize it by calling render."
      ]
    },
    {
      "cell_type": "code",
      "metadata": {
        "id": "78DEhxAialfR",
        "colab": {
          "base_uri": "https://localhost:8080/",
          "height": 119
        },
        "outputId": "5ac57b61-14fa-48e6-fbaa-08dcae702ac3"
      },
      "source": [
        "env.reset()\n",
        "# render_in_jp()\n",
        "print('Starting the enviroment')\n",
        "env.render()"
      ],
      "execution_count": null,
      "outputs": [
        {
          "output_type": "stream",
          "text": [
            "Starting the enviroment\n",
            "\n",
            "\u001b[41mS\u001b[0mFFF\n",
            "FHFH\n",
            "FFFH\n",
            "HFFG\n"
          ],
          "name": "stdout"
        }
      ]
    },
    {
      "cell_type": "markdown",
      "metadata": {
        "id": "3HbbnwcgfOS9"
      },
      "source": [
        " For discrete tasks it's possible to also check the enviroment's action and observation space, but not fro discrete events."
      ]
    },
    {
      "cell_type": "code",
      "metadata": {
        "id": "acSjPe69fRra",
        "colab": {
          "base_uri": "https://localhost:8080/",
          "height": 51
        },
        "outputId": "d633d9c2-2b38-4f1f-d761-8562b51752d5"
      },
      "source": [
        "n_actions = env.action_space.n\n",
        "n_states = env.observation_space.n\n",
        "\n",
        "# Actions are left, up, right, down\n",
        "print(f'Number of actions {n_actions} for the {env_name} enviroment')\n",
        "# States are the 16 fields\n",
        "print(f'Number of possible states {n_states} for the {env_name} enviroment')"
      ],
      "execution_count": null,
      "outputs": [
        {
          "output_type": "stream",
          "text": [
            "Number of actions 4 for the FrozenLake-v0 enviroment\n",
            "Number of possible states 16 for the FrozenLake-v0 enviroment\n"
          ],
          "name": "stdout"
        }
      ]
    },
    {
      "cell_type": "markdown",
      "metadata": {
        "id": "vQfNwZbxfek3"
      },
      "source": [
        "It's then possible to move our agent in the enviroment. For aexample if we want to take action 1 we can do:"
      ]
    },
    {
      "cell_type": "code",
      "metadata": {
        "id": "Ym5JEj2ifDvf",
        "colab": {
          "base_uri": "https://localhost:8080/",
          "height": 119
        },
        "outputId": "71639970-8e85-43a3-d01c-5246efec312a"
      },
      "source": [
        " # Taking direction 1\n",
        "env.step(1)\n",
        "print('Enviroment after step 1')\n",
        "env.render()"
      ],
      "execution_count": null,
      "outputs": [
        {
          "output_type": "stream",
          "text": [
            "Enviroment after step 1\n",
            "  (Down)\n",
            "SFFF\n",
            "F\u001b[41mH\u001b[0mFH\n",
            "FFFH\n",
            "HFFG\n"
          ],
          "name": "stdout"
        }
      ]
    },
    {
      "cell_type": "markdown",
      "metadata": {
        "id": "Ha2R3NeejOgD"
      },
      "source": [
        "Note that it's a stocastic enviroment, so sometimes you won't move in the direction you intended."
      ]
    },
    {
      "cell_type": "markdown",
      "metadata": {
        "id": "GmuQmL6DlROx"
      },
      "source": [
        "## Visualizing other environments"
      ]
    },
    {
      "cell_type": "code",
      "metadata": {
        "id": "rD6oIxEwfm1z",
        "colab": {
          "base_uri": "https://localhost:8080/",
          "height": 269
        },
        "outputId": "134d3d53-27bd-4420-8f14-6b4641c65c18"
      },
      "source": [
        "env = gym.make('MsPacman-v0')\n",
        "env.reset()\n",
        "for _ in range(10):\n",
        "    render_in_jp()\n",
        "    env.step(env.action_space.sample()) # take a random action\n",
        "env.close()"
      ],
      "execution_count": null,
      "outputs": [
        {
          "output_type": "display_data",
          "data": {
            "image/png": "[encoded data removed]",
            "text/plain": [
              "<Figure size 432x288 with 1 Axes>"
            ]
          },
          "metadata": {
            "tags": [],
            "needs_background": "light"
          }
        }
      ]
    },
    {
      "cell_type": "code",
      "metadata": {
        "id": "Yo_fcesRleMe",
        "colab": {
          "base_uri": "https://localhost:8080/",
          "height": 269
        },
        "outputId": "d42ee233-21ed-48b8-f0c2-64aedd4a508c"
      },
      "source": [
        " env = gym.make('SpaceInvaders-v0')\n",
        "env.reset()\n",
        "for _ in range(10):\n",
        "    render_in_jp()\n",
        "    env.step(env.action_space.sample()) # take a random action\n",
        "env.close()"
      ],
      "execution_count": null,
      "outputs": [
        {
          "output_type": "display_data",
          "data": {
            "image/png": "[encoded data removed]",
            "text/plain": [
              "<Figure size 432x288 with 1 Axes>"
            ]
          },
          "metadata": {
            "tags": [],
            "needs_background": "light"
          }
        }
      ]
    },
    {
      "cell_type": "code",
      "metadata": {
        "id": "GuUS0_Folgqz",
        "colab": {
          "base_uri": "https://localhost:8080/",
          "height": 269
        },
        "outputId": "82b0a776-848b-49b1-9548-a4058591aebc"
      },
      "source": [
        "# This is only using the observation is the RAM of the Atari machine\n",
        "# consisting of 128 bytes\n",
        "env = gym.make('BattleZone-ram-v0')\n",
        "env.reset()\n",
        "for _ in range(10):\n",
        "    render_in_jp()\n",
        "    env.step(env.action_space.sample()) # take a random action\n",
        "env.close()"
      ],
      "execution_count": null,
      "outputs": [
        {
          "output_type": "display_data",
          "data": {
            "image/png": "[encoded data removed]",
            "text/plain": [
              "<Figure size 432x288 with 1 Axes>"
            ]
          },
          "metadata": {
            "tags": [],
            "needs_background": "light"
          }
        }
      ]
    },
    {
      "cell_type": "markdown",
      "metadata": {
        "id": "Cd8W1PxAly2v"
      },
      "source": [
        "## Task\n",
        "Load an discrete enviroment of your choice, check the action space dimension, perform some actions and visualize it."
      ]
    },
    {
      "cell_type": "code",
      "metadata": {
        "id": "jGKwBLRplkRr"
      },
      "source": [
        ""
      ],
      "execution_count": null,
      "outputs": []
    }
  ]
}